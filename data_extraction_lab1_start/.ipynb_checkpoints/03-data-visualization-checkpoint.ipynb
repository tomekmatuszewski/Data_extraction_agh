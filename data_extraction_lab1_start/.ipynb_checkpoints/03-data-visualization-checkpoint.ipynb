{
 "cells": [
  {
   "cell_type": "markdown",
   "metadata": {},
   "source": [
    "# Wizualizacja danych\n",
    "\n",
    "W niniejszym ćwczeniu przećwiczmy wizualizację wyekstrahowanych w poprzednich ćwiczeniach danych."
   ]
  },
  {
   "cell_type": "markdown",
   "metadata": {},
   "source": [
    "## Wizualizacja danych na wykresie\n",
    "\n",
    "Dla dużych ilość pobranych danych warto zwizualizować je w formie graficznej np. na wykresie.\n",
    "Dla przypomnienia Python oferuje wiele bibliotek wspierających tworzenie wykresów. W ramach zajęć skupimy się na klasie `pyplot` zawierającej się w bibliotece `matplotlib`. Można ją zainstalować za pomocą poniższego polecenia.\n",
    "\n",
    "Link do oficjalnego tutoriala: https://matplotlib.org/tutorials/introductory/pyplot.html"
   ]
  },
  {
   "cell_type": "code",
   "execution_count": null,
   "metadata": {},
   "outputs": [],
   "source": [
    "# Installs a pip package in the current Jupyter kernel\n",
    "import sys\n",
    "!\"{sys.executable}\" -m pip install matplotlib --user\n",
    "import matplotlib.pyplot as plt"
   ]
  },
  {
   "cell_type": "code",
   "execution_count": null,
   "metadata": {},
   "outputs": [],
   "source": [
    "# Przykład dla przypomnienia\n",
    "import matplotlib.pyplot as plt\n",
    "\n",
    "x = ['styczeń', 'luty', 'marzec', 'kwiecień']\n",
    "y = [-5.3, 3.2, 12, 8.3]\n",
    "plt.bar(x, y)\n",
    "plt.xlabel('Miesiące')\n",
    "plt.ylabel('Jakieś wartości')\n",
    "plt.title('Przykładowy wykres')\n",
    "plt.grid(True)\n",
    "# Zapis do pliku, koniecznie przed plt.show()!\n",
    "plt.savefig('output/wykres.png')\n",
    "plt.show()\n"
   ]
  },
  {
   "cell_type": "code",
   "execution_count": null,
   "metadata": {},
   "outputs": [],
   "source": [
    "# Przykład z danymi przechowywanymi w słowniku\n",
    "data = {'apple': 67, 'mango': 60, 'lichi': 58}\n",
    "names = data.keys()\n",
    "values = data.values()\n",
    "plt.style.use('ggplot') # Jeden ze stylów, więcej na stronie https://matplotlib.org/3.1.0/gallery/style_sheets/style_sheets_reference.html\n",
    "plt.bar(names,values)\n",
    "plt.show()"
   ]
  },
  {
   "cell_type": "markdown",
   "metadata": {},
   "source": [
    "### Zadanie nr 6\n",
    "\n",
    "Na wykresie słupkowym chcemy pokazać statystykę średniego rozmiaru jaki posiadają poszczególne typy plików wg rozszerzeń. Tę statystykę chcemy wygenerować w oparciu o naszych katalog z danymi `data`.  Wykres powinien być posortowany (a więc typu ranking), a więc z lewej strony powinno być rozszerzenie, które statystycznie ma największy rozmiar, a z prawej strony typy plików, które zwykle są najmniejsze.\n",
    "\n",
    "Wynik zapisz do pliku `output/file_extensions_chart.png`.\n",
    "Oczekiwany wynik poniżej: ![image](file_extensions_chart.png)"
   ]
  },
  {
   "cell_type": "code",
   "execution_count": null,
   "metadata": {},
   "outputs": [],
   "source": [
    "# TO DO zaimplementuj tutaj swoje rozwiązanie\n"
   ]
  },
  {
   "cell_type": "markdown",
   "metadata": {},
   "source": [
    "## Wizualizacja danych na mapie geograficznej\n",
    "\n",
    "Wizualizacja na mapie to bardzo często stosowana technika analizy. Poniżej zobaczysz jak w łatwy sposób stworzyć swoją własną wizualizację. \n",
    "\n",
    "W tym celu będziemy korzystali z kolejnej biblioteki o nazwie **ipyleaflet**. "
   ]
  },
  {
   "cell_type": "code",
   "execution_count": null,
   "metadata": {},
   "outputs": [],
   "source": [
    "# Installs a pip package in the current Jupyter kernel\n",
    "import sys\n",
    "!{sys.executable} -m pip install ipyleaflet --user\n",
    "from ipyleaflet import Marker, Map"
   ]
  },
  {
   "cell_type": "markdown",
   "metadata": {},
   "source": [
    "Biblioteka ta korzysta ze źródeł OpenStreetMaps. Są również dostępne różne warstwy geograficzne.\n",
    "Oficjalna dokumentacja do biblioteki znajduje się pod adresem https://ipyleaflet.readthedocs.io/en/latest\n",
    "\n",
    "Poniżej znajdziesz kilka wprowadzających przykładów."
   ]
  },
  {
   "cell_type": "code",
   "execution_count": null,
   "metadata": {},
   "outputs": [],
   "source": [
    "from ipyleaflet import Marker, Map\n",
    "\n",
    "center = (50.066724, 19.909314)\n",
    "m = Map(center=center, zoom=15)\n",
    "marker = Marker(location=center, draggable=False)\n",
    "\n",
    "m.add_layer(marker)\n",
    "display(m)"
   ]
  },
  {
   "cell_type": "code",
   "execution_count": null,
   "metadata": {},
   "outputs": [],
   "source": [
    "# Nieco bardziej rozbudowany przykład. Zwróć uwagę na miejsce umieszczenia dodatkowych danych (tekstu)\n",
    "from ipywidgets import HTML\n",
    "from ipyleaflet import Map, Marker, Popup\n",
    "\n",
    "center = (50.066724, 19.909314)\n",
    "m = Map(center=center, zoom=13)\n",
    "marker = Marker(location=center, draggable=False, title=\"Tekst pojawiający się po najechaniu myszką\")\n",
    "marker2 = Marker(location=(50.066724, 19.929314), draggable=False)\n",
    "message2 = HTML()\n",
    "message2.value = \"To jest miejsce na <b color='red'>Twoje szczegóły</b>\"\n",
    "marker2.popup = message2\n",
    "\n",
    "m.add_layer(marker)\n",
    "m.add_layer(marker2)\n",
    "display(m)"
   ]
  },
  {
   "cell_type": "code",
   "execution_count": null,
   "metadata": {},
   "outputs": [],
   "source": [
    "from ipyleaflet import Map, Marker, basemaps, basemap_to_tiles\n",
    "\n",
    "m = Map(\n",
    "    basemap=basemap_to_tiles(basemaps.NASAGIBS.ModisTerraTrueColorCR, \"2017-04-08\"),\n",
    "    center=(52.204793, 360.121558),\n",
    "    zoom=4\n",
    ")\n",
    "\n",
    "# Więcej przykładów innych rodzajów map\n",
    "# https://ipyleaflet.readthedocs.io/en/latest/api_reference/basemaps.html\n",
    "\n",
    "m.add_layer(Marker(location=(52.204793, 360.121558)))\n",
    "m"
   ]
  },
  {
   "cell_type": "code",
   "execution_count": null,
   "metadata": {},
   "outputs": [],
   "source": [
    "# Zapisywanie mapy do pliku HTML: \n",
    "m.save('output/my_map.html', title='My Map')"
   ]
  },
  {
   "cell_type": "markdown",
   "metadata": {},
   "source": [
    "### Zadanie nr 7\n",
    "\n",
    "Twoim zadaniem jest wizualizacja pozycji wszystkich zdjęć z katalogu `data/photos`. W etykietach umieść nazwę pliku, z którego pochodzą współrzędne.\n",
    "\n",
    "Wynik zapisz do pliku `output/poi_from_photos.html`.\n",
    "Oczekiwany wynik poniżej: ![image](map1-example.png)\n"
   ]
  },
  {
   "cell_type": "code",
   "execution_count": null,
   "metadata": {},
   "outputs": [],
   "source": [
    "# TO DO zaimplementuj tutaj swoje rozwiązanie\n"
   ]
  },
  {
   "cell_type": "markdown",
   "metadata": {},
   "source": [
    "### Zadanie nr 8\n",
    "\n",
    "Twoim zadaniem jest nowa wersja wizualizacji z poprzedniego zadania. Tym razem nie wystarczą nam same punkty, ale chcemy równiez pokazać zależność czasową tych punktów poprzez narysowanie linii lub ścieżki przemieszczania się.\n",
    "\n",
    "W tym celu wykorzystaj jedną z dwóch możliwości biblioteki ipyleaflet:\n",
    "- Polyline https://ipyleaflet.readthedocs.io/en/latest/api_reference/polyline.html\n",
    "- AntPath https://ipyleaflet.readthedocs.io/en/latest/api_reference/antpath.html\n",
    "\n",
    "Wynik zapisz do pliku `output/path_from_photos.html`.\n",
    "Oczekiwany wynik poniżej: ![image](map2-example.png)"
   ]
  },
  {
   "cell_type": "code",
   "execution_count": null,
   "metadata": {},
   "outputs": [],
   "source": [
    "# TO DO zaimplementuj tutaj swoje rozwiązanie"
   ]
  }
 ],
 "metadata": {
  "kernelspec": {
   "display_name": "Python 3",
   "language": "python",
   "name": "python3"
  },
  "language_info": {
   "codemirror_mode": {
    "name": "ipython",
    "version": 3
   },
   "file_extension": ".py",
   "mimetype": "text/x-python",
   "name": "python",
   "nbconvert_exporter": "python",
   "pygments_lexer": "ipython3",
   "version": "3.8.0"
  }
 },
 "nbformat": 4,
 "nbformat_minor": 2
}
