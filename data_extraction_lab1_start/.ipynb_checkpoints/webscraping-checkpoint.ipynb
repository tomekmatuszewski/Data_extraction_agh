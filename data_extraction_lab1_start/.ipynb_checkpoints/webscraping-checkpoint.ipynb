{
 "cells": [
  {
   "cell_type": "markdown",
   "metadata": {},
   "source": [
    "# Mikroserwisy\n",
    "\n",
    "### Przykłady prostych zastosowań\n",
    "\n",
    "Współczesne architektury oparte są o tzw. mikroserwisy. W uproszczeniu mikroserwisy to bezstanowe usługi udostępniające i przyjmujące dane w formacie JSON. Często różne platformy internetowe udostępniają tzw. API, a więc interfejsy programistyczne zrealizowane w formie właśnie mikroserwisów.\n"
   ]
  },
  {
   "cell_type": "markdown",
   "metadata": {},
   "source": [
    "### Github API\n",
    "Świetnym przykładem otwartego API jest serwis Github, który wpisuje się w ostatio modną nową dziedzinę nauki tzw. repository mining, a więc analizie danycj przechowywanych w różnych repozytoriach danych ze szczególnym uwzględnieniem repozytoriów programistycznych.\n",
    "\n",
    "Pełna dokumentacja API znajduje się na stronie:\n",
    "https://developer.github.com/v3/\n",
    "\n",
    "Dokumentacja API dotyczącą przeszukiwania znajdziesz pod adresem:\n",
    "https://developer.github.com/v3/search/\n",
    "\n",
    "Poniżej zaprezentowano przykładowe zapytania:\n",
    "- Projekty, które zawierają słowo kluczowe Tetris (np. w nazwie, opisie, URLu) napisane w języku Assembler, posortowane w kolejności od najbardziej popularnego do najmniej popularnego (popularność mierzona ilością gwiazdek): ```https://api.github.com/search/repositories?q=tetris+language:assembly&sort=stars&order=desc```\n",
    "- Wszystkie projekty zaimplementowane przy użyciu języka Java ```https://api.github.com/search/repositories?q=language:java```"
   ]
  },
  {
   "cell_type": "markdown",
   "metadata": {},
   "source": [
    "### Zadanie nr 3\n",
    "\n",
    "Zbuduj ranking języków programowania wg ilosci projektów w serwisie Github.\n",
    "Wykorzystaj następującą listę języków\n",
    "\n",
    "```python\n",
    "languages = {\"Java\", \"C\", \"C++\", \"C#\", \"Javascript\", \"Python\", \"PHP\", \"Go\"}\n",
    "```\n",
    "\n",
    "Listę dostępnych w serwisie języków programowania można pobrać z API poleceniem:\n",
    "https://api.github.com/languages"
   ]
  },
  {
   "cell_type": "code",
   "execution_count": 11,
   "metadata": {},
   "outputs": [],
   "source": [
    "# TO DO zaimplementuj tutaj swoje rozwiązanie\n"
   ]
  },
  {
   "cell_type": "markdown",
   "metadata": {},
   "source": [
    "### CEPIK\n",
    "\n",
    "Ciekawmy serwisem jest https://api.cepik.gov.pl. Dostarcza on API do pozyskiwania interesujących zanonimizowanych danych dot. zarejestrowanych samochodów, wydanych praw jazdy, etc.. Przykładowo, aby pobrać listę wszystkich zarejestrowanych pojazdów z województwa małopolskiego, zarejestrowanych po raz I w Polsce w latach 2018-2019 użyj następującego wywołania do API:\n",
    "https://api.cepik.gov.pl/pojazdy?wojewodztwo=12&data-od=20180101&data-do=20191231\n",
    "\n",
    "Dokumentację API znajdziesz pod adresem https://api.cepik.gov.pl/doc."
   ]
  },
  {
   "cell_type": "markdown",
   "metadata": {},
   "source": [
    "### Zadanie nr 4\n",
    "\n",
    "Korzystając z tego serwisu napisz funkcję, która podaje 5 najczęściej rejestrowanych po raz pierwszy w Małopolsce aut (marka i model) w 2 i 3 kwartale 2019 roku. "
   ]
  },
  {
   "cell_type": "code",
   "execution_count": 14,
   "metadata": {},
   "outputs": [],
   "source": [
    "# TO DO zaimplementuj tutaj swoje rozwiązanie\n"
   ]
  }
 ],
 "metadata": {
  "kernelspec": {
   "display_name": "Python 3",
   "language": "python",
   "name": "python3"
  },
  "language_info": {
   "codemirror_mode": {
    "name": "ipython",
    "version": 3
   },
   "file_extension": ".py",
   "mimetype": "text/x-python",
   "name": "python",
   "nbconvert_exporter": "python",
   "pygments_lexer": "ipython3",
   "version": "3.8.0"
  }
 },
 "nbformat": 4,
 "nbformat_minor": 2
}
