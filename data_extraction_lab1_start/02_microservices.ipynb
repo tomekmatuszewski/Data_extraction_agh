{
 "cells": [
  {
   "cell_type": "markdown",
   "metadata": {},
   "source": [
    "# Mikroserwisy\n",
    "\n",
    "### Przykłady prostych zastosowań\n",
    "\n",
    "Współczesne architektury oparte są o tzw. mikroserwisy. W uproszczeniu mikroserwisy to bezstanowe usługi udostępniające i przyjmujące dane w formacie JSON. Często różne platformy internetowe udostępniają tzw. API, a więc interfejsy programistyczne zrealizowane w formie właśnie mikroserwisów.\n"
   ]
  },
  {
   "cell_type": "markdown",
   "metadata": {},
   "source": [
    "### Github API\n",
    "Świetnym przykładem otwartego API jest serwis Github, który wpisuje się w ostatio modną nową dziedzinę nauki tzw. repository mining, a więc analizie danycj przechowywanych w różnych repozytoriach danych ze szczególnym uwzględnieniem repozytoriów programistycznych.\n",
    "\n",
    "Pełna dokumentacja API znajduje się na stronie:\n",
    "https://developer.github.com/v3/\n",
    "\n",
    "Dokumentacja API dotyczącą przeszukiwania znajdziesz pod adresem:\n",
    "https://developer.github.com/v3/search/\n",
    "\n",
    "Poniżej zaprezentowano przykładowe zapytania:\n",
    "- Projekty, które zawierają słowo kluczowe Tetris (np. w nazwie, opisie, URLu) napisane w języku Assembler, posortowane w kolejności od najbardziej popularnego do najmniej popularnego (popularność mierzona ilością gwiazdek): ```https://api.github.com/search/repositories?q=tetris+language:assembly&sort=stars&order=desc```\n",
    "- Wszystkie projekty zaimplementowane przy użyciu języka Java ```https://api.github.com/search/repositories?q=language:java```"
   ]
  },
  {
   "cell_type": "markdown",
   "metadata": {},
   "source": [
    "### Zadanie nr 3\n",
    "\n",
    "Zbuduj ranking języków programowania wg ilosci projektów w serwisie Github.\n",
    "Wykorzystaj następującą listę języków\n",
    "\n",
    "```python\n",
    "languages = {\"Java\", \"C\", \"C++\", \"C#\", \"Javascript\", \"Python\", \"PHP\", \"Go\"}\n",
    "```\n",
    "\n",
    "Listę dostępnych w serwisie języków programowania można pobrać z API poleceniem:\n",
    "https://api.github.com/languages"
   ]
  },
  {
   "cell_type": "code",
   "execution_count": 3,
   "metadata": {},
   "outputs": [
    {
     "data": {
      "image/png": "[encoded data removed]",
      "text/plain": [
       "<Figure size 432x288 with 1 Axes>"
      ]
     },
     "metadata": {
      "needs_background": "light"
     },
     "output_type": "display_data"
    }
   ],
   "source": [
    "# TO DO zaimplementuj tutaj swoje rozwiązanie\n",
    "from requests import get\n",
    "import matplotlib.pyplot as plt\n",
    "\n",
    "languages = {\"Java\", \"C\", \"C++\", \"C#\", \"Javascript\", \"Python\", \"PHP\", \"Go\"}\n",
    "results = dict.fromkeys(languages, 0)\n",
    "\n",
    "for language in languages:\n",
    "    num_proj = get(f\"https://api.github.com/search/repositories?q=language:{language}\").json()\n",
    "    results[language] = num_proj['total_count']\n",
    "    \n",
    "results = {k:v for k,v in sorted(results.items(), key=lambda x: x[1], reverse=True)}\n",
    "\n",
    "plt.ticklabel_format(style = 'plain')\n",
    "plt.title('Most popular languages', color='black')\n",
    "plt.bar(range(len(results)), results.values(), tick_label=list(results.keys()))\n",
    "plt.show()\n",
    "\n",
    "\n",
    "\n",
    "\n"
   ]
  }
 ],
 "metadata": {
  "kernelspec": {
   "display_name": "Python 3",
   "language": "python",
   "name": "python3"
  },
  "language_info": {
   "codemirror_mode": {
    "name": "ipython",
    "version": 3
   },
   "file_extension": ".py",
   "mimetype": "text/x-python",
   "name": "python",
   "nbconvert_exporter": "python",
   "pygments_lexer": "ipython3",
   "version": "3.8.5"
  }
 },
 "nbformat": 4,
 "nbformat_minor": 2
}
