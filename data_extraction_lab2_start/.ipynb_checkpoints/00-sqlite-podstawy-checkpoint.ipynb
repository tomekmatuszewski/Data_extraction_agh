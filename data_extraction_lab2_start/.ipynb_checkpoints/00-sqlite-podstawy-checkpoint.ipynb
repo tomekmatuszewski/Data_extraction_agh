{
 "cells": [
  {
   "cell_type": "markdown",
   "metadata": {},
   "source": [
    "# Wprowadzenie do obsługi baz danych\n",
    "\n",
    "## Przygotowanie środowiska\n",
    "\n",
    "W ramach ćwiczeń będziemy pracowali z jednym z bardziej popularnych silników baz relacyjnych SQLite. Jest to lekka baza oparta na plikach co pozwala na szybkie jej przenoszenie bez konieczności instalacji zasobożernych silników typu MS SQL.\n",
    "\n",
    "Do komunikacji z bazą danych (plikiem :-) potrzebujemy oczywiście odpowiedniej biblioteki: `sqlite3`. Powinna być zainstalowania wraz z Pythonem począwszy od wersji 2.5. Gdyby jednak nie była zainstalowana poniższe polecenie zakończy się błędami - wtedy odkomentuj zakomentowany kod i wykonaj polecenie ponownie, aby zainstalować w systemie bibliotekę.\n",
    "\n",
    "Pełną dokumentację biblioteki znajdziesz tutaj: https://docs.python.org/3/library/sqlite3.html."
   ]
  },
  {
   "cell_type": "code",
   "execution_count": 1,
   "metadata": {},
   "outputs": [],
   "source": [
    "# Installs a pip package in the current Jupyter kernel\n",
    "#import sys\n",
    "#!\"{sys.executable}\" -m pip install sqlite3 --user\n",
    "import sqlite3"
   ]
  },
  {
   "cell_type": "markdown",
   "metadata": {},
   "source": [
    "Będziemy pracować z bazą danych `friends.db`, którą znajdziesz w pliku `data/friends.db`. Przyjrzyj się jej korzystając z serwisu https://sqliteonline.com. W serwisie tym wybierz opcję `File->Open DB`, jak na poniższym obrazku. Następnie wywołaj zapytanie, które wyświetli całą zawartość tabeli `friends`. Jakie to polecenie?\n",
    "\n",
    "![image](sqliteonline.png)"
   ]
  },
  {
   "cell_type": "markdown",
   "metadata": {},
   "source": [
    "Czas na połączenie się z bazą z poziomu Pythona. Poniższy przykład ilustruje prosty scenariusz pobierania danych i wyświetlania ich na ekran."
   ]
  },
  {
   "cell_type": "code",
   "execution_count": 1,
   "metadata": {},
   "outputs": [
    {
     "name": "stdout",
     "output_type": "stream",
     "text": [
      "John Wick\n",
      "Captain Kirk\n",
      "Terminator Type1\n",
      "Yoda Jedi\n",
      "Reksio Bury\n"
     ]
    }
   ],
   "source": [
    "import sqlite3\n",
    "db = sqlite3.connect('data/friends.db')\n",
    "cursor = db.cursor()\n",
    "cursor.execute('SELECT * FROM friend')\n",
    "for row in cursor:\n",
    "    print('{0} {1}'.format(row[1], row[2]))\n",
    "db.close()"
   ]
  },
  {
   "cell_type": "markdown",
   "metadata": {},
   "source": [
    "## Zadanie Sqlite #1\n",
    "\n",
    "Zmodyfikuj kod tak aby drukował również email i wiek, a więc by otrzymać taki wydruk:\n",
    "\n",
    "```\n",
    "John Wick - john@wick.com [age: 28]\n",
    "Captain Kirk - kirk@starfleet.org [age: 32]\n",
    "Terminator Type1 - terminator@type1.com [age: 64]\n",
    "Yoda Jedi - yoda@jedi.com [age: 442]\n",
    "Reksio Bury - reksio@tvp.pl [age: 5]\n",
    "```"
   ]
  },
  {
   "cell_type": "code",
   "execution_count": 2,
   "metadata": {},
   "outputs": [
    {
     "name": "stdout",
     "output_type": "stream",
     "text": [
      "John Wick - john@wick.com [age: 28]\n",
      "Captain Kirk - kirk@starfleet.org [age: 32]\n",
      "Terminator Type1 - terminator@type1.com [age: 64]\n",
      "Yoda Jedi - yoda@jedi.com [age: 442]\n",
      "Reksio Bury - reksio@tvp.pl [age: 5]\n"
     ]
    }
   ],
   "source": [
    "# TO DO zaimplementuj tutaj swoje rozwiązanie\n",
    "\n",
    "import sqlite3\n",
    "db = sqlite3.connect('data/friends.db')\n",
    "cursor = db.cursor()\n",
    "cursor.execute('SELECT * FROM friend')\n",
    "for row in cursor:\n",
    "    print('{0} {1} - {2} [age: {3}]'.format(row[1], row[2], row[3], row[4]))\n",
    "db.close()"
   ]
  },
  {
   "cell_type": "markdown",
   "metadata": {},
   "source": [
    "## Zadanie Sqlite #2\n",
    "\n",
    "Napisz funkcję, która przyjmuje 4 parametry: `name`, `surname`, `minAge`, `maxAge` i w zależności od wartości parametrów filtruje wypisywaną na ekran listę. Przykładowe zapytania:\n",
    "\n",
    "```\n",
    "printFriends()\n",
    "printFriends(\"J\")\n",
    "printFriends(\"\", \"Wi\")\n",
    "printFriends(\"\", \"\", 7)\n",
    "printFriends(\"\", \"\", 7, 63)\n",
    "```"
   ]
  },
  {
   "cell_type": "code",
   "execution_count": 3,
   "metadata": {},
   "outputs": [
    {
     "name": "stdout",
     "output_type": "stream",
     "text": [
      "### printFriends()\n",
      "John Wick - john@wick.com [age: 28]\n",
      "Captain Kirk - kirk@starfleet.org [age: 32]\n",
      "Terminator Type1 - terminator@type1.com [age: 64]\n",
      "Yoda Jedi - yoda@jedi.com [age: 442]\n",
      "Reksio Bury - reksio@tvp.pl [age: 5]\n",
      "### printFriends(\"J\")\n",
      "John Wick - john@wick.com [age: 28]\n",
      "### printFriends(, \"Wi\")\n",
      "John Wick - john@wick.com [age: 28]\n",
      "### printFriends(, , 7)\n",
      "John Wick - john@wick.com [age: 28]\n",
      "Captain Kirk - kirk@starfleet.org [age: 32]\n",
      "Terminator Type1 - terminator@type1.com [age: 64]\n",
      "Yoda Jedi - yoda@jedi.com [age: 442]\n",
      "### printFriends(, , 7, 63)\n",
      "John Wick - john@wick.com [age: 28]\n",
      "Captain Kirk - kirk@starfleet.org [age: 32]\n"
     ]
    }
   ],
   "source": [
    "import sqlite3\n",
    "db = sqlite3.connect('data/friends.db')\n",
    "cursor = db.cursor()\n",
    "\n",
    "def printFriends(name=\"\", surname=\"\", minAge=-1, maxAge=-1):\n",
    "    sqlQuery = \"SELECT * FROM friend WHERE name LIKE '%{}%' AND surname LIKE '%{}%'\".format(name, surname)\n",
    "    if minAge!=-1:\n",
    "        sqlQuery += \" AND age>='{}'\".format(minAge)\n",
    "    if (maxAge != -1):\n",
    "        sqlQuery += \" AND age<='{}'\".format(maxAge)\n",
    "    cursor.execute(sqlQuery)\n",
    "    for row in cursor:\n",
    "        print('{} {} - {} [age: {}]'.format(row[1], row[2], row[3], row[4]))\n",
    "\n",
    "print(\"### printFriends()\");\n",
    "printFriends()\n",
    "print(\"### printFriends(\\\"J\\\")\");\n",
    "printFriends(\"J\")\n",
    "print(\"### printFriends(\"\", \\\"Wi\\\")\");\n",
    "printFriends(\"\", \"Wi\")\n",
    "print(\"### printFriends(\"\", \"\", 7)\");\n",
    "printFriends(\"\", \"\", 7)\n",
    "print(\"### printFriends(\"\", \"\", 7, 63)\");\n",
    "printFriends(\"\", \"\", 7, 63)\n",
    "db.close()\n"
   ]
  },
  {
   "cell_type": "markdown",
   "metadata": {},
   "source": [
    "By dodać rekord do bazy danych należy wykorzystać komendy `INSERT INTO`.\n",
    "Poniżej przykładowa komenda SQL:\n",
    "```language=SQL\n",
    "INSERT INTO friend (name, surname, email, age) VALUES ('James', 'Bond', 'bond@mi06.uk', '55')\n",
    "```\n",
    "\n",
    "Wypróbuj komendę dodając nowy rekord z poziomu programu w Pythonie. Tym razem po komendzie execute musisz jeszcze wywołać funkcję `db.commit()`, a więc:"
   ]
  },
  {
   "cell_type": "code",
   "execution_count": 5,
   "metadata": {},
   "outputs": [],
   "source": [
    "import sqlite3\n",
    "db = sqlite3.connect('data/friends.db')\n",
    "cursor = db.cursor()\n",
    "sqlQuery = \"INSERT INTO friend (name, surname, email, age) VALUES ('James', 'Bond', 'bond@mi06.uk', '55')\"\n",
    "cursor.execute(sqlQuery)\n",
    "db.commit()\n",
    "db.close()"
   ]
  },
  {
   "cell_type": "markdown",
   "metadata": {},
   "source": [
    "Użyj poprzednio zaimplementowanej funkcji by sprawdzić zawartość bazy danych. Jeśli chcesz przywrócić bazę do stanu początkowego możesz nadpisać plik `data/friends.db` korzystając z backupu w pliku z `data/friends_backup.db`. Poniższej funkcja, która to zrealizuje dla Ciebie :-)"
   ]
  },
  {
   "cell_type": "code",
   "execution_count": 4,
   "metadata": {},
   "outputs": [],
   "source": [
    "def resetDB():\n",
    "    import shutil\n",
    "    shutil.copy(\"data/friends_backup.db\", \"data/friends.db\")\n",
    "    print(\"\\033[1m\\033[43m\\033[33m Database has been refreshed...\\033[0m\")"
   ]
  },
  {
   "cell_type": "markdown",
   "metadata": {},
   "source": [
    "I wołamy funkcję"
   ]
  },
  {
   "cell_type": "code",
   "execution_count": 5,
   "metadata": {},
   "outputs": [
    {
     "name": "stdout",
     "output_type": "stream",
     "text": [
      "\u001b[1m\u001b[43m\u001b[33m Database has been refreshed...\u001b[0m\n"
     ]
    }
   ],
   "source": [
    "resetDB()"
   ]
  },
  {
   "cell_type": "markdown",
   "metadata": {},
   "source": [
    "Analogicznie, potestuj komendy, które pozwalają na aktualizację danych w bazie oraz ich usuwanie\n",
    "```language=SQL\n",
    "UPDATE friend SET name ='John' WHERE name='James'\n",
    "DELETE FROM friend WHERE id='6'\n",
    "```\n",
    "Działanie możesz sprawdzić wywołując swoją funkcję `printFriends`. "
   ]
  },
  {
   "cell_type": "code",
   "execution_count": 8,
   "metadata": {},
   "outputs": [],
   "source": [
    "# Aktualizacja danych\n",
    "db = sqlite3.connect('data/friends.db')\n",
    "cursor = db.cursor()\n",
    "cursor.execute(\"UPDATE friend SET name ='James' WHERE name='John'\")\n",
    "db.commit()\n",
    "db.close()"
   ]
  },
  {
   "cell_type": "code",
   "execution_count": 9,
   "metadata": {},
   "outputs": [],
   "source": [
    "# Usuwanie danych\n",
    "db = sqlite3.connect('data/friends.db')\n",
    "cursor = db.cursor()\n",
    "cursor.execute(\"DELETE FROM friend WHERE id='1'\")\n",
    "db.commit()\n",
    "db.close()"
   ]
  },
  {
   "cell_type": "markdown",
   "metadata": {},
   "source": [
    "## Zadanie Sqlite #3\n",
    "\n",
    "Następnie napisz funkcję stanowiącą interfejs dla użytkownika, któr pozwala na zarządzanie bazą poprzez:\n",
    "- wyświetlanie bazy przyjaciół\n",
    "- dodawanie nowych rekordów\n",
    "- usuwanie wybranych rekordów\n",
    "\n",
    "Użytkowanie programu powinno polegać na wywołaniu funkcji z różnymi parametrami:\n",
    "```\n",
    "bookManager(\"list\")\n",
    "bookManager(\"list filter name\")\n",
    "bookManager(\"list filter name surname\")\n",
    "bookManager(\"list filter name surname min_age\")\n",
    "bookManager(\"list filter name surname min_age max_age\")\n",
    "bookManager(\"add name\")\n",
    "bookManager(\"add name surname\")\n",
    "bookManager(\"add name surname email\")\n",
    "bookManager(\"add name surname email age\")\n",
    "bookManager(\"delete id\")\n",
    "```"
   ]
  },
  {
   "cell_type": "code",
   "execution_count": 6,
   "metadata": {},
   "outputs": [],
   "source": [
    "# TO DO zaimplementuj tutaj swoje rozwiązanie\n",
    "\n",
    "import sqlite3\n",
    "import sys\n",
    "\n",
    "db = sqlite3.connect('data/friends.db')\n",
    "cursor = db.cursor()\n",
    "\n",
    "def printFriends(name=\"\", surname=\"\", minAge=-1, maxAge=-1):\n",
    "    sqlQuery = \"SELECT * FROM friend WHERE name LIKE '%{}%' AND surname LIKE '%{}%'\".format(name, surname)\n",
    "    if minAge!=-1:\n",
    "        sqlQuery += \" AND age>='{}'\".format(minAge)\n",
    "    if (maxAge != -1):\n",
    "        sqlQuery += \" AND age<='{}'\".format(maxAge)\n",
    "    cursor.execute(sqlQuery)\n",
    "    for row in cursor:\n",
    "        print('[{}] {} {} - {} [age: {}]'.format(row[0], row[1], row[2], row[3], row[4]))\n",
    "\n",
    "def insertFriend(name, surname, email, age):\n",
    "    sqlQuery = \"INSERT INTO friend (name, surname, email, age) VALUES ('{}', '{}', '{}', '{}')\".format(name, surname, email, age)\n",
    "    cursor.execute(sqlQuery)\n",
    "    db.commit()\n",
    "\n",
    "def deleteFriend(id):\n",
    "    sqlQuery = \"DELETE FROM friend WHERE id = '{}'\".format(id)\n",
    "    cursor.execute(sqlQuery)\n",
    "    db.commit()\n",
    "\n",
    "def bookManager(argsString=\"\"):\n",
    "    argv = argsString.split()\n",
    "    if len(argv) == 0:\n",
    "        print(\"No params provided\")\n",
    "        return\n",
    "    command = argv[0]\n",
    "\n",
    "    if command == \"list\":\n",
    "        name = surname = \"\"\n",
    "        min_age = -1\n",
    "        max_age = -1\n",
    "        if len(argv)>=3: name = argv[2]\n",
    "        if len(argv)>=4: surname = argv[3]\n",
    "        if len(argv)>=5: min_age = argv[4]\n",
    "        if len(argv)>=6: max_age = argv[5]\n",
    "        printFriends(name, surname, min_age, max_age)\n",
    "    elif command == \"add\":\n",
    "        name = surname = email = \"\"\n",
    "        age = 0\n",
    "        if len(argv)==1:\n",
    "            print(\"Invalid syntax\");\n",
    "            exit()\n",
    "        if len(argv)>=2: name = argv[1]\n",
    "        if len(argv)>=3: surname = argv[2]\n",
    "        if len(argv)>=4: email = argv[3]\n",
    "        if len(argv)>=5: age = argv[4]\n",
    "        insertFriend(name, surname, email, age)\n",
    "        print(\"Friend added\")\n",
    "    elif command == \"delete\":\n",
    "        if len(argv)<1:\n",
    "            print(\"Invalid syntax\");\n",
    "            exit()\n",
    "        id = argv[1]\n",
    "        deleteFriend(id)\n",
    "        print(\"Friend deleted\")"
   ]
  },
  {
   "cell_type": "code",
   "execution_count": 12,
   "metadata": {},
   "outputs": [
    {
     "name": "stdout",
     "output_type": "stream",
     "text": [
      "No params provided\n"
     ]
    }
   ],
   "source": [
    "bookManager()"
   ]
  },
  {
   "cell_type": "code",
   "execution_count": 18,
   "metadata": {},
   "outputs": [
    {
     "name": "stdout",
     "output_type": "stream",
     "text": [
      "### bookManager(\"list\")\n",
      "[2] Captain Kirk - kirk@starfleet.org [age: 32]\n",
      "[3] Terminator Type1 - terminator@type1.com [age: 64]\n",
      "[4] Yoda Jedi - yoda@jedi.com [age: 442]\n",
      "[5] Reksio Bury - reksio@tvp.pl [age: 5]\n",
      "### bookManager(\"list filter name\")\n",
      "[4] Yoda Jedi - yoda@jedi.com [age: 442]\n",
      "### bookManager(\"list filter name surname\")\n",
      "[2] Captain Kirk - kirk@starfleet.org [age: 32]\n",
      "### bookManager(\"list filter name surname min_age\")\n",
      "[3] Terminator Type1 - terminator@type1.com [age: 64]\n",
      "### bookManager(\"list filter name surname min_age max_age\")\n",
      "[3] Terminator Type1 - terminator@type1.com [age: 64]\n",
      "### bookManager(\"add name\")\n",
      "Friend added\n",
      "### bookManager(\"add name surname\")\n",
      "Friend added\n",
      "### bookManager(\"add name surname email\")\n",
      "Friend added\n",
      "### bookManager(\"add name surname email age\")\n",
      "Friend added\n",
      "### bookManager(\"delete id\")\n",
      "Friend deleted\n"
     ]
    }
   ],
   "source": [
    "print('### bookManager(\"list\")');\n",
    "bookManager(\"list\")\n",
    "print('### bookManager(\"list filter name\")');\n",
    "bookManager(\"list filter Y\")\n",
    "print('### bookManager(\"list filter name surname\")');\n",
    "bookManager(\"list filter Cap Kir\")\n",
    "print('### bookManager(\"list filter name surname min_age\")');\n",
    "bookManager(\"list filter T Ty 64\")\n",
    "print('### bookManager(\"list filter name surname min_age max_age\")');\n",
    "bookManager(\"list filter T Ty 64 65\")\n",
    "print('### bookManager(\"add name\")');\n",
    "bookManager(\"add John\")\n",
    "print('### bookManager(\"add name surname\")');\n",
    "bookManager(\"add John Wick\")\n",
    "print('### bookManager(\"add name surname email\")');\n",
    "bookManager(\"add John Wick john@wick.us\")\n",
    "print('### bookManager(\"add name surname email age\")');\n",
    "bookManager(\"add John Wick john@wick.us 34\")\n",
    "print('### bookManager(\"delete id\")');\n",
    "bookManager(\"delete 9\")"
   ]
  }
 ],
 "metadata": {
  "kernelspec": {
   "display_name": "Python 3",
   "language": "python",
   "name": "python3"
  },
  "language_info": {
   "codemirror_mode": {
    "name": "ipython",
    "version": 3
   },
   "file_extension": ".py",
   "mimetype": "text/x-python",
   "name": "python",
   "nbconvert_exporter": "python",
   "pygments_lexer": "ipython3",
   "version": "3.9.0"
  }
 },
 "nbformat": 4,
 "nbformat_minor": 2
}
