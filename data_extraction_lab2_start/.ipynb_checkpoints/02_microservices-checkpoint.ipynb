{
 "cells": [
  {
   "cell_type": "markdown",
   "metadata": {},
   "source": [
    "# Mikroserwisy\n",
    "\n",
    "### Przykłady prostych zastosowań\n",
    "\n",
    "Współczesne architektury oparte są o tzw. mikroserwisy. W uproszczeniu mikroserwisy to bezstanowe usługi udostępniające i przyjmujące dane w formacie JSON. Często różne platformy internetowe udostępniają tzw. API, a więc interfejsy programistyczne zrealizowane w formie właśnie mikroserwisów.\n"
   ]
  },
  {
   "cell_type": "markdown",
   "metadata": {},
   "source": [
    "### Github API\n",
    "Świetnym przykładem otwartego API jest serwis Github, który wpisuje się w ostatio modną nową dziedzinę nauki tzw. repository mining, a więc analizie danycj przechowywanych w różnych repozytoriach danych ze szczególnym uwzględnieniem repozytoriów programistycznych.\n",
    "\n",
    "Pełna dokumentacja API znajduje się na stronie:\n",
    "https://developer.github.com/v3/\n",
    "\n",
    "Dokumentacja API dotyczącą przeszukiwania znajdziesz pod adresem:\n",
    "https://developer.github.com/v3/search/\n",
    "\n",
    "Poniżej zaprezentowano przykładowe zapytania:\n",
    "- Projekty, które zawierają słowo kluczowe Tetris (np. w nazwie, opisie, URLu) napisane w języku Assembler, posortowane w kolejności od najbardziej popularnego do najmniej popularnego (popularność mierzona ilością gwiazdek): ```https://api.github.com/search/repositories?q=tetris+language:assembly&sort=stars&order=desc```\n",
    "- Wszystkie projekty zaimplementowane przy użyciu języka Java ```https://api.github.com/search/repositories?q=language:java```"
   ]
  },
  {
   "cell_type": "markdown",
   "metadata": {},
   "source": [
    "### Zadanie nr 3\n",
    "\n",
    "Zbuduj ranking języków programowania wg ilosci projektów w serwisie Github.\n",
    "Wykorzystaj następującą listę języków\n",
    "\n",
    "```python\n",
    "languages = {\"Java\", \"C\", \"C++\", \"C#\", \"Javascript\", \"Python\", \"PHP\", \"Go\"}\n",
    "\n",
    "```\n",
    "\n",
    "Listę dostępnych w serwisie języków programowania można pobrać z API poleceniem:\n",
    "https://api.github.com/languages"
   ]
  },
  {
   "cell_type": "code",
   "execution_count": 3,
   "metadata": {},
   "outputs": [
    {
     "name": "stdout",
     "output_type": "stream",
     "text": [
      "Processing language: Kotlin\n",
      "Processing language: Csharp\n",
      "Processing language: C\n",
      "Processing language: Go\n",
      "Processing language: Javascript\n",
      "Processing language: Python\n",
      "Processing language: Java\n",
      "Processing language: PHP\n",
      "Processing language: Cpp\n",
      "[('Javascript', 12402082), ('Java', 9036540), ('Python', 6444684), ('PHP', 2781387), ('Csharp', 2597059), ('Cpp', 2374085), ('C', 1599265), ('Go', 729992), ('Kotlin', 453136)]\n"
     ]
    }
   ],
   "source": [
    "# TO DO zaimplementuj tutaj swoje rozwiązanie\n",
    "\n",
    "import json\n",
    "import requests\n",
    "import time\n",
    "\n",
    "languages = {\"Java\", \"C\", \"Cpp\", \"Csharp\", \"Javascript\", \"Python\", \"PHP\", \"Go\", \"Kotlin\"}\n",
    "\n",
    "languageDict = {}\n",
    "\n",
    "for language in languages:\n",
    "    response = requests.get(\"https://api.github.com/search/repositories?q=language:\"+language)\n",
    "    projects = json.loads(response.text)\n",
    "    time.sleep(10) # poczekajmy, żeby Github nas zbyt łatwo nie zablokował\n",
    "    print(\"Processing language: \" + language)\n",
    "    languageDict[language] = projects[\"total_count\"]\n",
    "\n",
    "sortedDict = sorted(languageDict.items(), key = lambda x : x[1], reverse=True)\n",
    "print(sortedDict)\n",
    "    \n",
    "\n"
   ]
  }
 ],
 "metadata": {
  "kernelspec": {
   "display_name": "Python 3",
   "language": "python",
   "name": "python3"
  },
  "language_info": {
   "codemirror_mode": {
    "name": "ipython",
    "version": 3
   },
   "file_extension": ".py",
   "mimetype": "text/x-python",
   "name": "python",
   "nbconvert_exporter": "python",
   "pygments_lexer": "ipython3",
   "version": "3.9.0"
  }
 },
 "nbformat": 4,
 "nbformat_minor": 2
}
