{
 "cells": [
  {
   "cell_type": "markdown",
   "metadata": {},
   "source": [
    "# Wprowadzenie do ekstrakcji \n",
    "\n",
    "Analiza danych wymaga przede wszystkim źródeł danych. Analityk może pracować na odpowiednio przygotowanych danych lub źródłach wewnętrznych dostępnych w ramach danej organizacji i firmie. Natomiast może rówmież skorzystać z danych dostępnych w sieci Internet. \n",
    "\n",
    "Obecnie rośnie popularność tzw. otwartych źródeł danych. Są to źródła dostępne w sposób publiczny i nieodpłatnie, które są publikowane najczęściej przez instytucje rządowe lub organizacje pozarządowe. Takie przykładowe źródła to np.:\n",
    "- https://datausa.io\n",
    "- https://www.data.gov\n",
    "- https://data.gov.uk\n",
    "- https://dane.gov.pl\n",
    "- https://mojepanstwo.pl\n",
    "\n",
    "Źródła te oferują dane w różnych postaciach. Spróbujmy sklasyfikować te dane wg formatów, w których są dostępne:\n",
    "- Dane ustrukturyzowane\n",
    "  - Dane o strukturze tabelarycznej\n",
    "    - CSV\n",
    "    - Excel\n",
    "  - Dane o strukturze hierarchicznej\n",
    "    - XML\n",
    "    - JSON \n",
    "    - Bazy danych\n",
    "- Dane nieustrukturyzowane (lub częściowo ustrukturyzowane)\n",
    "  - Strony HTML\n",
    "  - Tekst\n"
   ]
  },
  {
   "cell_type": "markdown",
   "metadata": {},
   "source": [
    "## JSON \n",
    "\n",
    "Jednym z popularniejszych formatów wykorzystywanym obecnie do przechowywania danych jest JSON (JavaScript Object Notation). Format JSON to prosty format tekstowy. Przykładowe dane w formacie JSON wyglądają następująco:\n",
    "\n",
    "```json\n",
    "[{\n",
    "  \"id\": 1,\n",
    "  \"first_name\": \"Jeanette\",\n",
    "  \"last_name\": \"Penddreth\",\n",
    "  \"email\": \"jpenddreth0@census.gov\",\n",
    "  \"gender\": \"Female\",\n",
    "  \"ip_address\": \"26.58.193.2\"\n",
    "}, {\n",
    "  \"id\": 2,\n",
    "  \"first_name\": \"Giavani\",\n",
    "  \"last_name\": \"Frediani\",\n",
    "  \"email\": \"gfrediani1@senate.gov\",\n",
    "  \"gender\": \"Male\",\n",
    "  \"ip_address\": \"229.179.4.212\"\n",
    "}]\n",
    "```\n",
    "Jak widać przypomina on krotki w języku Python. Format ten jest bardzo powszechnie wykorzystywane w sieci Internet. Dane w tym formacie można pobrać z serwisów Twitter, Youtube czy też np. GoogleMaps. Poniżej przykład zapisu znaczników z Google Maps:\n",
    "\n",
    "```json\n",
    "{\n",
    "  \"markers\": [\n",
    "    {\n",
    "      \"name\": \"Rixos The Palm Dubai\",\n",
    "      \"position\": [25.1212, 55.1535],\n",
    "    },\n",
    "    {\n",
    "      \"name\": \"Shangri-La Hotel\",\n",
    "      \"location\": [25.2084, 55.2719]\n",
    "    },\n",
    "    {\n",
    "      \"name\": \"Grand Hyatt\",\n",
    "      \"location\": [25.2285, 55.3273]\n",
    "    }\n",
    "  ]\n",
    "}\n",
    "```\n",
    "\n",
    "Intensywna praca z tym formaten jest mniej wydajna niż w przypadku baz relacyjnych. Nie daje on takich możliwości przeszukiwania jak SQL bazy relacyjne. Stąd dobrym pomysyłem może być utworzenie lokalnej dedykowanej do analiz bazy, w której bedą gromadzone dane importowane z zewnętrznych źródeł.\n",
    "\n",
    "Spróbujmy zobaczyć jak pobrać i przeanalizować dane w tym formacie. W tym celu wykorzystamy następujące źródło danych:\n",
    "https://jsonplaceholder.typicode.com/todos\n",
    "\n",
    "Zapoznaj się z nim. Jak widać przechowuje dane o zadaniach użytkowników i statusie zadań.\n",
    "\n",
    "Do pracy z potrzebować będziemy dwóch pakietów:\n",
    "- **json** - powininen być dostępny bez konieczności instalacji\n",
    "- **requests** - może wymagać instalacji\n",
    "\n",
    "Wykonaj poniższą komórkę by zainstalować i sprawdzić czy biblioteki są dostępne."
   ]
  },
  {
   "cell_type": "code",
   "execution_count": 2,
   "metadata": {},
   "outputs": [
    {
     "name": "stdout",
     "output_type": "stream",
     "text": [
      "Collecting requests\n",
      "  Downloading requests-2.25.1-py2.py3-none-any.whl (61 kB)\n",
      "Collecting chardet<5,>=3.0.2\n",
      "  Downloading chardet-4.0.0-py2.py3-none-any.whl (178 kB)\n",
      "Collecting idna<3,>=2.5\n",
      "  Downloading idna-2.10-py2.py3-none-any.whl (58 kB)\n",
      "Collecting urllib3<1.27,>=1.21.1\n",
      "  Downloading urllib3-1.26.2-py2.py3-none-any.whl (136 kB)\n",
      "Requirement already satisfied: certifi>=2017.4.17 in c:\\users\\jacek\\appdata\\roaming\\python\\python38\\site-packages (from requests) (2019.11.28)\n",
      "Installing collected packages: chardet, idna, urllib3, requests\n",
      "Successfully installed chardet-4.0.0 idna-2.10 requests-2.25.1 urllib3-1.26.2\n"
     ]
    },
    {
     "name": "stderr",
     "output_type": "stream",
     "text": [
      "WARNING: You are using pip version 20.1.1; however, version 20.3.3 is available.\n",
      "You should consider upgrading via the 'c:\\program files\\python38\\python.exe -m pip install --upgrade pip' command.\n"
     ]
    }
   ],
   "source": [
    "# Installs a pip package in the current Jupyter kernel\n",
    "import json\n",
    "!\"{sys.executable}\" -m pip install requests --user\n",
    "import requests"
   ]
  },
  {
   "cell_type": "code",
   "execution_count": null,
   "metadata": {
    "scrolled": false
   },
   "outputs": [],
   "source": [
    "# Żeby pobrać dane wykorzystaj poniższy kod:\n",
    "import json\n",
    "import requests\n",
    "\n",
    "response = requests.get(\"https://jsonplaceholder.typicode.com/todos\")\n",
    "todos = json.loads(response.text)"
   ]
  },
  {
   "cell_type": "code",
   "execution_count": null,
   "metadata": {},
   "outputs": [],
   "source": [
    "# Przykład z danymi przechowywanymi w słowniku\n",
    "data = {'apple': 67, 'mango': 60, 'lichi': 58}\n",
    "names = data.keys()\n",
    "values = data.values()\n",
    "plt.style.use('ggplot') # Jeden ze stylów, więcej na stronie https://matplotlib.org/3.1.0/gallery/style_sheets/style_sheets_reference.html\n",
    "plt.bar(names,values)\n",
    "plt.show()"
   ]
  },
  {
   "cell_type": "markdown",
   "metadata": {},
   "source": [
    "### Zadanie nr 1\n",
    "\n",
    "Pobierz dane z powyższego serwisu i wyświetl je w następujący sposób:\n",
    "```\n",
    "userId: 1, id: 1, title: delectus aut autem, completed: False, \n",
    "userId: 1, id: 2, title: quis ut nam facilis et officia qui, completed: False, \n",
    "userId: 1, id: 3, title: fugiat veniam minus, completed: False, \n",
    "userId: 1, id: 4, title: et porro tempora, completed: True,\n",
    "```"
   ]
  },
  {
   "cell_type": "code",
   "execution_count": null,
   "metadata": {},
   "outputs": [],
   "source": [
    "# TO DO zaimplementuj tutaj swoje rozwiązanie\n"
   ]
  },
  {
   "cell_type": "markdown",
   "metadata": {},
   "source": [
    "### Zadanie nr 2\n",
    "\n",
    "Ciekawym źródłem danych jest strona:\n",
    "https://github.com/jdorfman/awesome-json-datasets\n",
    "\n",
    "Z tej strony wykorzystaj następujące źródło:\n",
    "http://api.nobelprize.org/v1/prize.json\n",
    "\n",
    "Twoim zadaniem jest wypisanie Laureatów Pokojowej Nagrody Nobla za rok 2014."
   ]
  },
  {
   "cell_type": "code",
   "execution_count": 6,
   "metadata": {},
   "outputs": [],
   "source": [
    "# TO DO zaimplementuj tutaj swoje rozwiązanie\n"
   ]
  }
 ],
 "metadata": {
  "kernelspec": {
   "display_name": "Python 3",
   "language": "python",
   "name": "python3"
  },
  "language_info": {
   "codemirror_mode": {
    "name": "ipython",
    "version": 3
   },
   "file_extension": ".py",
   "mimetype": "text/x-python",
   "name": "python",
   "nbconvert_exporter": "python",
   "pygments_lexer": "ipython3",
   "version": "3.8.0"
  }
 },
 "nbformat": 4,
 "nbformat_minor": 2
}
