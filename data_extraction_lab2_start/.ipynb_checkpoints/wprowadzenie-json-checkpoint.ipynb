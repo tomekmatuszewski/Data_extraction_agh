{
 "cells": [
  {
   "cell_type": "markdown",
   "metadata": {},
   "source": [
    "# Wprowadzenie do ekstrakcji \n",
    "\n",
    "Analiza danych wymaga przede wszystkim źródeł danych. Analityk może pracować na odpowiednio przygotowanych danych lub źródłach wewnętrznych dostępnych w ramach danej organizacji i firmie. Natomiast może rówmież skorzystać z danych dostępnych w sieci Internet. \n",
    "\n",
    "Obecnie rośnie popularność tzw. otwartych źródeł danych. Są to źródła dostępne w sposób publiczny i nieodpłatnie, które są publikowane najczęściej przez instytucje rządowe lub organizacje pozarządowe. Takie przykładowe źródła to np.:\n",
    "- https://datausa.io\n",
    "- https://www.data.gov\n",
    "- https://data.gov.uk\n",
    "- https://dane.gov.pl\n",
    "- https://mojepanstwo.pl\n",
    "\n",
    "Źródła te oferują dane w różnych postaciach. Spróbujmy sklasyfikować te dane wg formatów, w których są dostępne:\n",
    "- Dane ustrukturyzowane\n",
    "  - Dane o strukturze tabelarycznej\n",
    "    - CSV\n",
    "    - Excel\n",
    "  - Dane o strukturze hierarchicznej\n",
    "    - XML\n",
    "    - JSON \n",
    "    - Bazy danych\n",
    "- Dane nieustrukturyzowane (lub częściowo ustrukturyzowane)\n",
    "  - Strony HTML\n",
    "  - Tekst\n"
   ]
  },
  {
   "cell_type": "markdown",
   "metadata": {},
   "source": [
    "## JSON \n",
    "\n",
    "Jednym z popularniejszych formatów wykorzystywanym obecnie do przechowywania danych jest JSON (JavaScript Object Notation). Format JSON to prosty format tekstowy. Przykładowe dane w formacie JSON wyglądają następująco:\n",
    "\n",
    "```json\n",
    "[{\n",
    "  \"id\": 1,\n",
    "  \"first_name\": \"Jeanette\",\n",
    "  \"last_name\": \"Penddreth\",\n",
    "  \"email\": \"jpenddreth0@census.gov\",\n",
    "  \"gender\": \"Female\",\n",
    "  \"ip_address\": \"26.58.193.2\"\n",
    "}, {\n",
    "  \"id\": 2,\n",
    "  \"first_name\": \"Giavani\",\n",
    "  \"last_name\": \"Frediani\",\n",
    "  \"email\": \"gfrediani1@senate.gov\",\n",
    "  \"gender\": \"Male\",\n",
    "  \"ip_address\": \"229.179.4.212\"\n",
    "}]\n",
    "```"
   ]
  },
  {
   "cell_type": "markdown",
   "metadata": {},
   "source": [
    "Jak widać przypomina on krotki w języku Python. Format ten jest bardzo powszechnie wykorzystywane w sieci Internet. Dane w tym formacie można pobrać z serwisów Twitter, Youtube czy też np. GoogleMaps. Poniżej przykład zapisu znaczników z Google Maps:\n",
    "\n",
    "```json\n",
    "{\n",
    "  \"markers\": [\n",
    "    {\n",
    "      \"name\": \"Rixos The Palm Dubai\",\n",
    "      \"position\": [25.1212, 55.1535],\n",
    "    },\n",
    "    {\n",
    "      \"name\": \"Shangri-La Hotel\",\n",
    "      \"location\": [25.2084, 55.2719]\n",
    "    },\n",
    "    {\n",
    "      \"name\": \"Grand Hyatt\",\n",
    "      \"location\": [25.2285, 55.3273]\n",
    "    }\n",
    "  ]\n",
    "}\n",
    "```\n",
    "\n",
    "Intensywna praca z tym formaten jest mniej wydajna niż w przypadku baz relacyjnych. Nie daje on takich możliwości przeszukiwania jak SQL bazy relacyjne. Stąd dobrym pomysyłem może być utworzenie lokalnej dedykowanej do analiz bazy, w której bedą gromadzone dane importowane z zewnętrznych źródeł."
   ]
  },
  {
   "cell_type": "markdown",
   "metadata": {},
   "source": [
    "Spróbujmy zobaczyć jak pobrać i przeanalizować dane w tym formacie. W tym celu wykorzystamy następujące źródło danych:\n",
    "https://jsonplaceholder.typicode.com/todos\n",
    "\n",
    "Zapoznaj się z nim. Jak widać przechowuje dane o zadaniach użytkowników i statusie zadań."
   ]
  },
  {
   "cell_type": "markdown",
   "metadata": {},
   "source": [
    "Do pracy z potrzebować będziemy dwóch pakietów:\n",
    "- **json** - powininen być dostępny bez konieczności instalacji\n",
    "- **requests** - może wymagać instalacji\n",
    "\n",
    "Wykonaj poniższą komórkę by zainstalować i sprawdzić czy biblioteki są dostępne."
   ]
  },
  {
   "cell_type": "code",
   "execution_count": 2,
   "metadata": {},
   "outputs": [
    {
     "name": "stderr",
     "output_type": "stream",
     "text": [
      "'\"{sys.executable}\"' is not recognized as an internal or external command,\n",
      "operable program or batch file.\n"
     ]
    },
    {
     "ename": "ModuleNotFoundError",
     "evalue": "No module named 'requests'",
     "output_type": "error",
     "traceback": [
      "\u001b[1;31m---------------------------------------------------------------------------\u001b[0m",
      "\u001b[1;31mModuleNotFoundError\u001b[0m                       Traceback (most recent call last)",
      "\u001b[1;32m<ipython-input-2-297ea929222a>\u001b[0m in \u001b[0;36m<module>\u001b[1;34m\u001b[0m\n\u001b[0;32m      2\u001b[0m \u001b[1;32mimport\u001b[0m \u001b[0mjson\u001b[0m\u001b[1;33m\u001b[0m\u001b[1;33m\u001b[0m\u001b[0m\n\u001b[0;32m      3\u001b[0m \u001b[0mget_ipython\u001b[0m\u001b[1;33m(\u001b[0m\u001b[1;33m)\u001b[0m\u001b[1;33m.\u001b[0m\u001b[0msystem\u001b[0m\u001b[1;33m(\u001b[0m\u001b[1;34m'\"{sys.executable}\" -m pip install requests --user'\u001b[0m\u001b[1;33m)\u001b[0m\u001b[1;33m\u001b[0m\u001b[1;33m\u001b[0m\u001b[0m\n\u001b[1;32m----> 4\u001b[1;33m \u001b[1;32mimport\u001b[0m \u001b[0mrequests\u001b[0m\u001b[1;33m\u001b[0m\u001b[1;33m\u001b[0m\u001b[0m\n\u001b[0m",
      "\u001b[1;31mModuleNotFoundError\u001b[0m: No module named 'requests'"
     ]
    }
   ],
   "source": [
    "# Installs a pip package in the current Jupyter kernel\n",
    "import json\n",
    "!\"{sys.executable}\" -m pip install requests --user\n",
    "import requests"
   ]
  },
  {
   "cell_type": "markdown",
   "metadata": {},
   "source": [
    "Żeby pobrać dane wykorzystaj poniższy kod:\n"
   ]
  },
  {
   "cell_type": "code",
   "execution_count": 4,
   "metadata": {},
   "outputs": [
    {
     "ename": "ModuleNotFoundError",
     "evalue": "No module named 'requests'",
     "output_type": "error",
     "traceback": [
      "\u001b[1;31m---------------------------------------------------------------------------\u001b[0m",
      "\u001b[1;31mModuleNotFoundError\u001b[0m                       Traceback (most recent call last)",
      "\u001b[1;32m<ipython-input-4-1778507271d5>\u001b[0m in \u001b[0;36m<module>\u001b[1;34m\u001b[0m\n\u001b[0;32m      1\u001b[0m \u001b[1;32mimport\u001b[0m \u001b[0mjson\u001b[0m\u001b[1;33m\u001b[0m\u001b[1;33m\u001b[0m\u001b[0m\n\u001b[1;32m----> 2\u001b[1;33m \u001b[1;32mimport\u001b[0m \u001b[0mrequests\u001b[0m\u001b[1;33m\u001b[0m\u001b[1;33m\u001b[0m\u001b[0m\n\u001b[0m\u001b[0;32m      3\u001b[0m \u001b[1;33m\u001b[0m\u001b[0m\n\u001b[0;32m      4\u001b[0m \u001b[0mresponse\u001b[0m \u001b[1;33m=\u001b[0m \u001b[0mrequests\u001b[0m\u001b[1;33m.\u001b[0m\u001b[0mget\u001b[0m\u001b[1;33m(\u001b[0m\u001b[1;34m\"https://jsonplaceholder.typicode.com/todos\"\u001b[0m\u001b[1;33m)\u001b[0m\u001b[1;33m\u001b[0m\u001b[1;33m\u001b[0m\u001b[0m\n\u001b[0;32m      5\u001b[0m \u001b[0mtodos\u001b[0m \u001b[1;33m=\u001b[0m \u001b[0mjson\u001b[0m\u001b[1;33m.\u001b[0m\u001b[0mloads\u001b[0m\u001b[1;33m(\u001b[0m\u001b[0mresponse\u001b[0m\u001b[1;33m.\u001b[0m\u001b[0mtext\u001b[0m\u001b[1;33m)\u001b[0m\u001b[1;33m\u001b[0m\u001b[1;33m\u001b[0m\u001b[0m\n",
      "\u001b[1;31mModuleNotFoundError\u001b[0m: No module named 'requests'"
     ]
    }
   ],
   "source": [
    "import json\n",
    "import requests\n",
    "\n",
    "response = requests.get(\"https://jsonplaceholder.typicode.com/todos\")\n",
    "todos = json.loads(response.text)"
   ]
  },
  {
   "cell_type": "markdown",
   "metadata": {},
   "source": [
    "### Zadanie nr 1\n",
    "\n",
    "Pobierz dane z powyższego serwisu i wyświetl je w następujący sposób:\n",
    "```\n",
    "userId: 1, id: 1, title: delectus aut autem, completed: False, \n",
    "userId: 1, id: 2, title: quis ut nam facilis et officia qui, completed: False, \n",
    "userId: 1, id: 3, title: fugiat veniam minus, completed: False, \n",
    "userId: 1, id: 4, title: et porro tempora, completed: True,\n",
    "```"
   ]
  },
  {
   "cell_type": "code",
   "execution_count": null,
   "metadata": {},
   "outputs": [],
   "source": [
    "# TO DO zaimplementuj tutaj swoje rozwiązanie"
   ]
  },
  {
   "cell_type": "markdown",
   "metadata": {},
   "source": [
    "import json\n",
    "import requests\n",
    "\n",
    "response = requests.get(\"https://jsonplaceholder.typicode.com/todos\")\n",
    "todos = json.loads(response.text)"
   ]
  },
  {
   "cell_type": "code",
   "execution_count": null,
   "metadata": {},
   "outputs": [],
   "source": []
  },
  {
   "cell_type": "code",
   "execution_count": null,
   "metadata": {},
   "outputs": [],
   "source": []
  },
  {
   "cell_type": "code",
   "execution_count": null,
   "metadata": {},
   "outputs": [],
   "source": []
  },
  {
   "cell_type": "code",
   "execution_count": null,
   "metadata": {},
   "outputs": [],
   "source": []
  }
 ],
 "metadata": {
  "kernelspec": {
   "display_name": "Python 3",
   "language": "python",
   "name": "python3"
  },
  "language_info": {
   "codemirror_mode": {
    "name": "ipython",
    "version": 3
   },
   "file_extension": ".py",
   "mimetype": "text/x-python",
   "name": "python",
   "nbconvert_exporter": "python",
   "pygments_lexer": "ipython3",
   "version": "3.8.0"
  }
 },
 "nbformat": 4,
 "nbformat_minor": 4
}
