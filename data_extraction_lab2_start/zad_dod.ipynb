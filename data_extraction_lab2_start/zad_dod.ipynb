{
 "cells": [
  {
   "cell_type": "code",
   "execution_count": 16,
   "metadata": {},
   "outputs": [],
   "source": [
    "import pandas as pd\n",
    "import os\n",
    "import requests\n",
    "from bs4 import BeautifulSoup"
   ]
  },
  {
   "cell_type": "code",
   "execution_count": 25,
   "metadata": {},
   "outputs": [],
   "source": [
    "url = \"https://jagular.iisg.agh.edu.pl/~jdajda/photos/\"\n",
    "\n",
    "# create directory\n",
    "# os.mkdir(\"photos\")\n",
    "\n",
    "resp = requests.get(url).content\n",
    "soup = BeautifulSoup(resp, 'html.parser')\n",
    "links = soup.find_all(\"a\")\n",
    "\n",
    "links = list(filter(lambda x: x[\"href\"].endswith(\".jpg\"), links))\n",
    "\n",
    "for link in links:\n",
    "    with open(f\"photos/{link['href']}\", \"wb\") as file:\n",
    "        response = requests.get(f\"{url}/{link['href']}\")\n",
    "        file.write(response.content)"
   ]
  },
  {
   "cell_type": "code",
   "execution_count": 27,
   "metadata": {},
   "outputs": [
    {
     "name": "stdout",
     "output_type": "stream",
     "text": [
      "['GoogleGlass1.jpg', 'GooglePixel3.jpg', 'GooglePixel4XL.jpg', 'GooglePixel4.jpg', 'GooglePixel3XL.jpg', 'GooglePixelXL.jpg', 'GooglePixel3aXL.jpg', 'GooglePixel2XL.jpg', 'GoogleNexusS.jpg', 'GooglePixel.jpg', 'GooglePixel2.jpg']\n"
     ]
    }
   ],
   "source": [
    "from exif import Image\n",
    "from ipyleaflet import Map, Marker, basemaps, basemap_to_tiles\n",
    "\n",
    "files = os.listdir(\"photos\")\n",
    "print(files)\n"
   ]
  },
  {
   "cell_type": "code",
   "execution_count": 31,
   "metadata": {},
   "outputs": [],
   "source": [
    "from ipyleaflet import Map, Polyline\n",
    "import os\n",
    "import collections\n",
    "\n",
    "def get_sorted_coordinates(root):\n",
    "    coordinates = {}\n",
    "    for file in os.listdir(root):\n",
    "        path = os.path.join(root, file)\n",
    "        creation_date = os.stat(path).st_mtime\n",
    "        with open(path, 'rb') as image_file:\n",
    "            my_image = Image(image_file)\n",
    "            try:\n",
    "                coordinates[file] = my_image.gps_latitude[0], my_image.gps_longitude[0], creation_date\n",
    "            except Exception:\n",
    "                coordinates[file] = None, None, 0\n",
    "    sorted_coordinates = sorted(coordinates.items(), key=lambda x: x[1][2])\n",
    "    return collections.OrderedDict(sorted_coordinates)\n",
    "\n",
    "data = get_sorted_coordinates(\"photos\")\n",
    "\n",
    "m = Map(\n",
    "    basemap=basemaps.CartoDB.Positron,\n",
    "    center=(52.204793, 0.0),\n",
    "    zoom=4\n",
    ")\n",
    "\n",
    "for file_name,coodinates in data.items():\n",
    "    if coodinates[0]:\n",
    "        m.add_layer(Marker(location=coodinates, title=file_name))\n",
    "\n",
    "lst_coordinates = [[v[0],v[1]] for k,v in data.items() if v[0]]\n",
    "\n",
    "lines = Polyline(\n",
    "    locations=[lst_coordinates],\n",
    "    color=\"green\" ,\n",
    "    fill=False\n",
    ")\n",
    "m.add_layer(lines)\n",
    "m.save('photos/path_from_photos.html', title='My Map')\n"
   ]
  }
 ],
 "metadata": {
  "kernelspec": {
   "display_name": "Python 3",
   "language": "python",
   "name": "python3"
  },
  "language_info": {
   "codemirror_mode": {
    "name": "ipython",
    "version": 3
   },
   "file_extension": ".py",
   "mimetype": "text/x-python",
   "name": "python",
   "nbconvert_exporter": "python",
   "pygments_lexer": "ipython3",
   "version": "3.8.5"
  }
 },
 "nbformat": 4,
 "nbformat_minor": 4
}
